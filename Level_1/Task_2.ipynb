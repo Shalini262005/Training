{
 "cells": [
  {
   "cell_type": "markdown",
   "id": "42764280",
   "metadata": {},
   "source": [
    "Task 2"
   ]
  },
  {
   "cell_type": "markdown",
   "id": "b1be6b92",
   "metadata": {},
   "source": [
    "Numpy arrays and statistics"
   ]
  },
  {
   "cell_type": "code",
   "execution_count": 1,
   "id": "9584f6eb",
   "metadata": {},
   "outputs": [],
   "source": [
    "import numpy as np"
   ]
  },
  {
   "cell_type": "code",
   "execution_count": 2,
   "id": "1e4002e9",
   "metadata": {},
   "outputs": [
    {
     "name": "stdout",
     "output_type": "stream",
     "text": [
      "[ 1  2  3  4  5  6  7  8  9 10]\n"
     ]
    }
   ],
   "source": [
    "num=np.array([n for n in range(1,11)])\n",
    "print(num)"
   ]
  },
  {
   "cell_type": "code",
   "execution_count": 3,
   "id": "89a87229",
   "metadata": {},
   "outputs": [
    {
     "name": "stdout",
     "output_type": "stream",
     "text": [
      "Mean: 5.5 \n",
      "Min 1 \n",
      "Max 10\n"
     ]
    }
   ],
   "source": [
    "mean=np.mean(num)\n",
    "min=np.min(num)\n",
    "max=np.max(num)\n",
    "print(\"Mean:\",mean,\"\\nMin\",min,\"\\nMax\",max)"
   ]
  }
 ],
 "metadata": {
  "kernelspec": {
   "display_name": "Python 3",
   "language": "python",
   "name": "python3"
  },
  "language_info": {
   "codemirror_mode": {
    "name": "ipython",
    "version": 3
   },
   "file_extension": ".py",
   "mimetype": "text/x-python",
   "name": "python",
   "nbconvert_exporter": "python",
   "pygments_lexer": "ipython3",
   "version": "3.12.5"
  }
 },
 "nbformat": 4,
 "nbformat_minor": 5
}
