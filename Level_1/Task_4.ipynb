{
 "cells": [
  {
   "cell_type": "markdown",
   "id": "423b01a8",
   "metadata": {},
   "source": [
    "Task 4"
   ]
  },
  {
   "cell_type": "markdown",
   "id": "7bec018b",
   "metadata": {},
   "source": [
    "Dynamic Data Structure"
   ]
  },
  {
   "cell_type": "code",
   "execution_count": 2,
   "id": "28992038",
   "metadata": {},
   "outputs": [
    {
     "name": "stdout",
     "output_type": "stream",
     "text": [
      "{'x': 1, 'y': 2, 'z': 3}\n"
     ]
    }
   ],
   "source": [
    "dict1={}\n",
    "for i in range(3):\n",
    "    key=input(\"Enter a key:\")\n",
    "    value=int(input(\"Enter the value:\"))\n",
    "    dict1[key]=value\n",
    "print(dict1)"
   ]
  }
 ],
 "metadata": {
  "kernelspec": {
   "display_name": "Python 3",
   "language": "python",
   "name": "python3"
  },
  "language_info": {
   "codemirror_mode": {
    "name": "ipython",
    "version": 3
   },
   "file_extension": ".py",
   "mimetype": "text/x-python",
   "name": "python",
   "nbconvert_exporter": "python",
   "pygments_lexer": "ipython3",
   "version": "3.12.5"
  }
 },
 "nbformat": 4,
 "nbformat_minor": 5
}
