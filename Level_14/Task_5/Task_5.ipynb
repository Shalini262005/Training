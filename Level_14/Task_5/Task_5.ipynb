{
 "cells": [
  {
   "cell_type": "code",
   "execution_count": 6,
   "id": "5e0fff56",
   "metadata": {},
   "outputs": [],
   "source": [
    "from selenium import webdriver\n",
    "from selenium.webdriver.edge.service import Service\n",
    "from selenium.webdriver.common.by import By\n",
    "from selenium.webdriver.edge.options import Options\n",
    "from bs4 import BeautifulSoup\n",
    "import time"
   ]
  },
  {
   "cell_type": "code",
   "execution_count": null,
   "id": "9d23cf3e",
   "metadata": {},
   "outputs": [],
   "source": [
    "options = Options()\n",
    "options.add_argument(\"--headless\")  \n",
    "options.add_argument(\"--no-sandbox\")\n",
    "options.add_argument(\"--disable-dev-shm-usage\")"
   ]
  },
  {
   "cell_type": "code",
   "execution_count": 10,
   "id": "ef5f7fbc",
   "metadata": {},
   "outputs": [],
   "source": [
    "service = Service()  \n",
    "driver = webdriver.Edge(service=service, options=options)"
   ]
  },
  {
   "cell_type": "code",
   "execution_count": 11,
   "id": "db61ca85",
   "metadata": {},
   "outputs": [],
   "source": [
    "url = 'https://www.cricbuzz.com/live-cricket-scorecard/35612/mi-vs-rcb-1st-match-indian-premier-league-2021'\n",
    "driver.get(url)"
   ]
  },
  {
   "cell_type": "code",
   "execution_count": null,
   "id": "b6bdd4ed",
   "metadata": {},
   "outputs": [],
   "source": [
    "match_status = \"completed\"  # hardcoded for this match, else parse dynamically\n",
    "match_datetime = soup.find('div', class_='cb-mtch-info-itm').text.strip()"
   ]
  },
  {
   "cell_type": "code",
   "execution_count": 12,
   "id": "1a1f64fc",
   "metadata": {},
   "outputs": [],
   "source": [
    "soup = BeautifulSoup(driver.page_source, 'html.parser')"
   ]
  },
  {
   "cell_type": "code",
   "execution_count": null,
   "id": "3137be61",
   "metadata": {},
   "outputs": [],
   "source": [
    "match_data = {}\n",
    "date_elem = soup.find('span', {'class': 'schedule-date ng-isolate-scope'})\n",
    "match_data['match_date'] = date_elem.text.strip() if date_elem else None"
   ]
  },
  {
   "cell_type": "code",
   "execution_count": null,
   "id": "8de98a46",
   "metadata": {},
   "outputs": [],
   "source": [
    "info_labels = soup.select('.cb-col.cb-col-27')\n",
    "info_values = soup.select('.cb-col.cb-col-73')\n",
    "\n",
    "for label, value in zip(info_labels, info_values):\n",
    "    label_text = label.text.strip().lower()\n",
    "    value_text = value.text.strip()\n",
    "    if 'venue' in label_text:\n",
    "        match_data['venue'] = value_text\n",
    "    if 'umpires' in label_text:\n",
    "        match_data['umpires'] = value_text\n",
    "    if 'third umpire' in label_text:\n",
    "        match_data['third_umpire'] = value_text\n",
    "    if 'match referee' in label_text:\n",
    "        match_data['match_referee'] = value_text\n"
   ]
  },
  {
   "cell_type": "code",
   "execution_count": 35,
   "id": "3907bbf8",
   "metadata": {},
   "outputs": [],
   "source": [
    "teams = soup.select('.cb-col.cb-col-100.cb-minfo-tm-nm')\n",
    "if len(teams) >= 2:\n",
    "    match_data['team1_name'] = teams[0].text.strip()\n",
    "    match_data['team1_players'] = teams[1].text.strip()"
   ]
  },
  {
   "cell_type": "code",
   "execution_count": 37,
   "id": "cd386362",
   "metadata": {},
   "outputs": [],
   "source": [
    "squad_sections = soup.select('.cb-col.cb-col-100.cb-minfo-tm-nm ~ div')\n",
    "\n",
    "team1_players = {\"captain\": None, \"players\": [], \"bench\": [], \"support_staff\": None}\n",
    "team2_players = {\"captain\": None, \"players\": [], \"bench\": [], \"support_staff\": None}"
   ]
  }
 ],
 "metadata": {
  "kernelspec": {
   "display_name": "Python 3",
   "language": "python",
   "name": "python3"
  },
  "language_info": {
   "codemirror_mode": {
    "name": "ipython",
    "version": 3
   },
   "file_extension": ".py",
   "mimetype": "text/x-python",
   "name": "python",
   "nbconvert_exporter": "python",
   "pygments_lexer": "ipython3",
   "version": "3.12.5"
  }
 },
 "nbformat": 4,
 "nbformat_minor": 5
}
