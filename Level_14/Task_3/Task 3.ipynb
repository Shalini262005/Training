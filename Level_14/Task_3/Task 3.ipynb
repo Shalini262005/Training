{
 "cells": [
  {
   "cell_type": "code",
   "execution_count": 1,
   "id": "067e6ade",
   "metadata": {},
   "outputs": [],
   "source": [
    "import requests\n",
    "from bs4 import BeautifulSoup\n",
    "import pandas as pd"
   ]
  },
  {
   "cell_type": "code",
   "execution_count": 3,
   "id": "af55de45",
   "metadata": {},
   "outputs": [],
   "source": [
    "base_url = \"https://www.cricbuzz.com\"\n",
    "page_url = \"https://www.cricbuzz.com/cricket-full-commentary/35612/mi-vs-rcb-1st-match-indian-premier-league-2021\"\n",
    "response = requests.get(page_url)\n",
    "soup = BeautifulSoup(response.text,\"html.parser\")"
   ]
  },
  {
   "cell_type": "code",
   "execution_count": 4,
   "id": "b17a5769",
   "metadata": {},
   "outputs": [
    {
     "data": {
      "text/plain": [
       "0"
      ]
     },
     "execution_count": 4,
     "metadata": {},
     "output_type": "execute_result"
    }
   ],
   "source": [
    "commentary = soup.find_all(\"div.cb-col.cb-col-67.cb-ful-comm\")\n",
    "len(commentary)"
   ]
  },
  {
   "cell_type": "markdown",
   "id": "3632466a",
   "metadata": {},
   "source": [
    "The website is built using javascript instead of raw html. Hence, the beautiful soup cannot be used to scrape ball by ball commentary from this website."
   ]
  }
 ],
 "metadata": {
  "kernelspec": {
   "display_name": "Python 3",
   "language": "python",
   "name": "python3"
  },
  "language_info": {
   "codemirror_mode": {
    "name": "ipython",
    "version": 3
   },
   "file_extension": ".py",
   "mimetype": "text/x-python",
   "name": "python",
   "nbconvert_exporter": "python",
   "pygments_lexer": "ipython3",
   "version": "3.12.5"
  }
 },
 "nbformat": 4,
 "nbformat_minor": 5
}
