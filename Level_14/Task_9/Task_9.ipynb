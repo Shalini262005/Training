{
 "cells": [
  {
   "cell_type": "code",
   "execution_count": null,
   "id": "02814a01",
   "metadata": {},
   "outputs": [],
   "source": [
    "from pydantic import BaseModel\n",
    "import pandas as pd"
   ]
  },
  {
   "cell_type": "code",
   "execution_count": 2,
   "id": "7e53cfbc",
   "metadata": {},
   "outputs": [],
   "source": [
    "class match(BaseModel):\n",
    "    match_no: int\n",
    "    match_name: str\n",
    "    match_type: str\n",
    "    match_date: str\n",
    "    match_time: str\n",
    "    match_venue: str\n",
    "    match_href: str\n",
    "    match_team1: str\n",
    "    match_team2: str\n",
    "    winning_team: str"
   ]
  },
  {
   "cell_type": "code",
   "execution_count": 11,
   "id": "40f85a4b",
   "metadata": {},
   "outputs": [
    {
     "data": {
      "application/javascript": "\n        if (window._pyforest_update_imports_cell) { window._pyforest_update_imports_cell('import pandas as pd'); }\n    ",
      "text/plain": [
       "<IPython.core.display.Javascript object>"
      ]
     },
     "metadata": {},
     "output_type": "display_data"
    }
   ],
   "source": [
    "Match_details = pd.read_csv(\"C:/Users/shali/OneDrive/Desktop/Training/Level_14/Task_2/IPL 2021 Matches.csv\",index_col='match_no')"
   ]
  },
  {
   "cell_type": "code",
   "execution_count": 12,
   "id": "cd32a048",
   "metadata": {},
   "outputs": [],
   "source": [
    "def get_match(match_no: int):\n",
    "    if match_no in Match_details.index:\n",
    "        row = Match_details.loc[match_no]\n",
    "        return match(match_no=match_no, **row.to_dict())\n",
    "    else:\n",
    "        return 'Match not found'"
   ]
  },
  {
   "cell_type": "code",
   "execution_count": 13,
   "id": "e7360632",
   "metadata": {},
   "outputs": [
    {
     "data": {
      "text/plain": [
       "match(match_no=1, match_name='MUMBAI INDIANS vs ROYAL CHALLENGERS BENGALURU', match_type='League', match_date='Apr 09,2021', match_time='7:30 PM', match_venue='MA Chidambaram Stadium, Chennai', match_href='https://www.cricbuzz.com/cricket-scores/35612/mi-vs-rcb-1st-match-indian-premier-league-2021', match_team1='MUMBAI INDIANS', match_team2='ROYAL CHALLENGERS BENGALURU', winning_team='ROYAL CHALLENGERS BANGALORE')"
      ]
     },
     "execution_count": 13,
     "metadata": {},
     "output_type": "execute_result"
    }
   ],
   "source": [
    "get_match(1)"
   ]
  }
 ],
 "metadata": {
  "kernelspec": {
   "display_name": "Python 3",
   "language": "python",
   "name": "python3"
  },
  "language_info": {
   "codemirror_mode": {
    "name": "ipython",
    "version": 3
   },
   "file_extension": ".py",
   "mimetype": "text/x-python",
   "name": "python",
   "nbconvert_exporter": "python",
   "pygments_lexer": "ipython3",
   "version": "3.12.5"
  }
 },
 "nbformat": 4,
 "nbformat_minor": 5
}
