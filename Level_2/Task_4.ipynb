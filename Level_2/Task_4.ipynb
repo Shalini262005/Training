{
 "cells": [
  {
   "cell_type": "markdown",
   "id": "b9af591f",
   "metadata": {},
   "source": [
    "Task 4: Seaborn Visualization"
   ]
  },
  {
   "cell_type": "code",
   "execution_count": null,
   "id": "511bddbf",
   "metadata": {},
   "outputs": [],
   "source": [
    "import seaborn as sns\n",
    "import numpy as np\n",
    "from numpy import random\n",
    "import matplotlib.pyplot as plt"
   ]
  },
  {
   "cell_type": "code",
   "execution_count": 1,
   "id": "93ddffae",
   "metadata": {},
   "outputs": [
    {
     "data": {
      "application/javascript": "\n        if (window._pyforest_update_imports_cell) { window._pyforest_update_imports_cell('import numpy as np'); }\n    ",
      "text/plain": [
       "<IPython.core.display.Javascript object>"
      ]
     },
     "metadata": {},
     "output_type": "display_data"
    },
    {
     "data": {
      "text/plain": [
       "array([0.49527715, 0.78627089, 0.33845522, 0.2727032 , 0.30076017,\n",
       "       0.30303261, 0.72720807, 0.2724836 , 0.80089021, 0.98318697,\n",
       "       0.21519769, 0.09511136, 0.31231974, 0.02661386, 0.64772485,\n",
       "       0.97776618, 0.41677499, 0.54513829, 0.07614246, 0.57944542,\n",
       "       0.00421707, 0.2491005 , 0.41788929, 0.02188329, 0.69542182,\n",
       "       0.81727463, 0.65557786, 0.51164495, 0.65635946, 0.06819791,\n",
       "       0.44903597, 0.29500633, 0.5980807 , 0.00169432, 0.29879758,\n",
       "       0.98827648, 0.12138964, 0.4004231 , 0.0816493 , 0.62249401,\n",
       "       0.51205877, 0.20273753, 0.44744701, 0.4928927 , 0.42743328,\n",
       "       0.47278779, 0.16251986, 0.48050103, 0.99188851, 0.12756156,\n",
       "       0.80439694, 0.20749474, 0.65876803, 0.60475713, 0.39954627,\n",
       "       0.45682532, 0.8312202 , 0.04582607, 0.86707935, 0.90158966,\n",
       "       0.86301371, 0.08199607, 0.97691442, 0.76442367, 0.47450002,\n",
       "       0.93171633, 0.18478545, 0.54168003, 0.51303117, 0.97503265,\n",
       "       0.73199204, 0.33296691, 0.45969876, 0.08222015, 0.71952159,\n",
       "       0.89462665, 0.19788997, 0.56667733, 0.32348506, 0.74753137,\n",
       "       0.64852888, 0.04858571, 0.04190412, 0.21264019, 0.84210634,\n",
       "       0.51505932, 0.42475705, 0.85230953, 0.90180512, 0.46628928,\n",
       "       0.23496456, 0.61259787, 0.50055009, 0.0079539 , 0.70587421,\n",
       "       0.36435684, 0.34236816, 0.13051254, 0.43082849, 0.05192619])"
      ]
     },
     "execution_count": 1,
     "metadata": {},
     "output_type": "execute_result"
    }
   ],
   "source": [
    "ar=np.random.rand(100)\n",
    "ar"
   ]
  },
  {
   "cell_type": "code",
   "execution_count": 2,
   "id": "7e2e77f1",
   "metadata": {},
   "outputs": [
    {
     "data": {
      "application/javascript": "\n        if (window._pyforest_update_imports_cell) { window._pyforest_update_imports_cell('import numpy as np\\nimport seaborn as sns'); }\n    ",
      "text/plain": [
       "<IPython.core.display.Javascript object>"
      ]
     },
     "metadata": {},
     "output_type": "display_data"
    },
    {
     "data": {
      "application/javascript": "\n        if (window._pyforest_update_imports_cell) { window._pyforest_update_imports_cell('import matplotlib.pyplot as plt\\nimport numpy as np\\nimport seaborn as sns'); }\n    ",
      "text/plain": [
       "<IPython.core.display.Javascript object>"
      ]
     },
     "metadata": {},
     "output_type": "display_data"
    },
    {
     "data": {
      "image/png": "[encoded data removed]",
      "text/plain": [
       "<Figure size 640x480 with 1 Axes>"
      ]
     },
     "metadata": {},
     "output_type": "display_data"
    }
   ],
   "source": [
    "ax=sns.boxplot(ar)\n",
    "ax.set_ylabel('Random numbers')\n",
    "plt.show()"
   ]
  }
 ],
 "metadata": {
  "kernelspec": {
   "display_name": "Python 3",
   "language": "python",
   "name": "python3"
  },
  "language_info": {
   "codemirror_mode": {
    "name": "ipython",
    "version": 3
   },
   "file_extension": ".py",
   "mimetype": "text/x-python",
   "name": "python",
   "nbconvert_exporter": "python",
   "pygments_lexer": "ipython3",
   "version": "3.12.5"
  }
 },
 "nbformat": 4,
 "nbformat_minor": 5
}
