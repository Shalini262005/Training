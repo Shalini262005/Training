{
 "cells": [
  {
   "cell_type": "markdown",
   "id": "7d1d9b38",
   "metadata": {},
   "source": [
    "Task 3: Functions"
   ]
  },
  {
   "cell_type": "code",
   "execution_count": 1,
   "id": "c22cdc91",
   "metadata": {},
   "outputs": [
    {
     "data": {
      "text/plain": [
       "[2, 4, 6, 8, 10, 12]"
      ]
     },
     "execution_count": 1,
     "metadata": {},
     "output_type": "execute_result"
    }
   ],
   "source": [
    "def func(a,b):\n",
    "    sqr=map(lambda x:x*b,a)\n",
    "    sqr=list(sqr)\n",
    "    even=filter(lambda x:x%2==0,sqr)\n",
    "    even=list(even)\n",
    "    return even\n",
    "res=func([1,2,3,4,5,6],2)\n",
    "res"
   ]
  }
 ],
 "metadata": {
  "kernelspec": {
   "display_name": "Python 3",
   "language": "python",
   "name": "python3"
  },
  "language_info": {
   "codemirror_mode": {
    "name": "ipython",
    "version": 3
   },
   "file_extension": ".py",
   "mimetype": "text/x-python",
   "name": "python",
   "nbconvert_exporter": "python",
   "pygments_lexer": "ipython3",
   "version": "3.12.5"
  }
 },
 "nbformat": 4,
 "nbformat_minor": 5
}
