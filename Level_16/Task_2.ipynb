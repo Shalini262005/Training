{
 "cells": [
  {
   "cell_type": "markdown",
   "metadata": {
    "application/vnd.databricks.v1+cell": {
     "cellMetadata": {
      "byteLimit": 2048000,
      "rowLimit": 10000
     },
     "inputWidgets": {},
     "nuid": "306e7400-646c-456c-9c59-1c521e27407d",
     "showTitle": false,
     "tableResultSettingsMap": {},
     "title": ""
    }
   },
   "source": [
    "### Lazy Evaluation"
   ]
  },
  {
   "cell_type": "code",
   "execution_count": 0,
   "metadata": {
    "application/vnd.databricks.v1+cell": {
     "cellMetadata": {
      "byteLimit": 2048000,
      "rowLimit": 10000
     },
     "inputWidgets": {},
     "nuid": "2ec652aa-2ce9-4afb-8393-e078c9e0b795",
     "showTitle": false,
     "tableResultSettingsMap": {},
     "title": ""
    }
   },
   "outputs": [],
   "source": [
    "from pyspark.sql import SparkSession"
   ]
  },
  {
   "cell_type": "code",
   "execution_count": 0,
   "metadata": {
    "application/vnd.databricks.v1+cell": {
     "cellMetadata": {
      "byteLimit": 2048000,
      "rowLimit": 10000
     },
     "inputWidgets": {},
     "nuid": "052b48d6-1c9f-414e-8a32-d4c217ce3bec",
     "showTitle": false,
     "tableResultSettingsMap": {},
     "title": ""
    }
   },
   "outputs": [],
   "source": [
    "spark = SparkSession.builder.appName(\"Lazy evaluation\").getOrCreate()"
   ]
  },
  {
   "cell_type": "code",
   "execution_count": 0,
   "metadata": {
    "application/vnd.databricks.v1+cell": {
     "cellMetadata": {
      "byteLimit": 2048000,
      "rowLimit": 10000
     },
     "inputWidgets": {},
     "nuid": "ad983a21-f5ef-475d-8b58-34617875312a",
     "showTitle": false,
     "tableResultSettingsMap": {},
     "title": ""
    }
   },
   "outputs": [],
   "source": [
    "df = spark.read.option('header',True).csv(\"/FileStore/tables/ipl_over_data.csv\")"
   ]
  },
  {
   "cell_type": "code",
   "execution_count": 0,
   "metadata": {
    "application/vnd.databricks.v1+cell": {
     "cellMetadata": {
      "byteLimit": 2048000,
      "rowLimit": 10000
     },
     "inputWidgets": {},
     "nuid": "a5fc4e59-28db-469e-a138-82160d1ab970",
     "showTitle": false,
     "tableResultSettingsMap": {},
     "title": ""
    }
   },
   "outputs": [
    {
     "output_type": "stream",
     "name": "stdout",
     "output_type": "stream",
     "text": [
      "root\n |-- year: string (nullable = true)\n |-- series_type: string (nullable = true)\n |-- series_name: string (nullable = true)\n |-- match_no: string (nullable = true)\n |-- match_type: string (nullable = true)\n |-- match_id: string (nullable = true)\n |-- match_venue: string (nullable = true)\n |-- match_status: string (nullable = true)\n |-- match_winning_team: string (nullable = true)\n |-- match_tie_breaker: string (nullable = true)\n |-- match_toss: string (nullable = true)\n |-- umpires: string (nullable = true)\n |-- match_referee: string (nullable = true)\n |-- third_umpires: string (nullable = true)\n |-- match_datetime: string (nullable = true)\n |-- team1_name: string (nullable = true)\n |-- team2_name: string (nullable = true)\n |-- team1_score: string (nullable = true)\n |-- team1_wickets: string (nullable = true)\n |-- team2_score: string (nullable = true)\n |-- team2_wickets: string (nullable = true)\n |-- team1_captain: string (nullable = true)\n |-- team1_players: string (nullable = true)\n |-- team1_bench: string (nullable = true)\n |-- team1_support_staff: string (nullable = true)\n |-- team2_captain: string (nullable = true)\n |-- team2_players: string (nullable = true)\n |-- team2_bench: string (nullable = true)\n |-- team2_support_staff: string (nullable = true)\n |-- over_no: string (nullable = true)\n |-- over_total_runs: string (nullable = true)\n |-- over_summary: string (nullable = true)\n |-- over_batsman1_name: string (nullable = true)\n |-- over_batsman1_curr_scr: string (nullable = true)\n |-- over_batsman1_played_balls: string (nullable = true)\n |-- over_batsman2_name: string (nullable = true)\n |-- over_batsman2_curr_scr: string (nullable = true)\n |-- over_batsman2_played_balls: string (nullable = true)\n |-- over_bowler_name: string (nullable = true)\n |-- over_bowler_bowled_overs: string (nullable = true)\n |-- over_bowler_bowled_maidens: string (nullable = true)\n |-- over_bowler_bowled_runs: string (nullable = true)\n |-- over_bowler_bowled_wickets: string (nullable = true)\n\n"
     ]
    }
   ],
   "source": [
    "df.printSchema()"
   ]
  },
  {
   "cell_type": "code",
   "execution_count": 0,
   "metadata": {
    "application/vnd.databricks.v1+cell": {
     "cellMetadata": {
      "byteLimit": 2048000,
      "rowLimit": 10000
     },
     "inputWidgets": {},
     "nuid": "18f07f09-0fbf-404c-a741-ff9d63a5b4b3",
     "showTitle": false,
     "tableResultSettingsMap": {},
     "title": ""
    }
   },
   "outputs": [
    {
     "output_type": "stream",
     "name": "stdout",
     "output_type": "stream",
     "text": [
      "== Physical Plan ==\nFileScan csv [year#20,series_type#21,series_name#22,match_no#23,match_type#24,match_id#25,match_venue#26,match_status#27,match_winning_team#28,match_tie_breaker#29,match_toss#30,umpires#31,match_referee#32,third_umpires#33,match_datetime#34,team1_name#35,team2_name#36,team1_score#37,team1_wickets#38,team2_score#39,team2_wickets#40,team1_captain#41,team1_players#42,team1_bench#43,... 19 more fields] Batched: false, DataFilters: [], Format: CSV, Location: InMemoryFileIndex(1 paths)[dbfs:/FileStore/tables/ipl_over_data.csv], PartitionFilters: [], PushedFilters: [], ReadSchema: struct<year:string,series_type:string,series_name:string,match_no:string,match_type:string,match_...\n\n\n"
     ]
    }
   ],
   "source": [
    "df.explain(mode='simple')"
   ]
  },
  {
   "cell_type": "code",
   "execution_count": 0,
   "metadata": {
    "application/vnd.databricks.v1+cell": {
     "cellMetadata": {
      "byteLimit": 2048000,
      "rowLimit": 10000
     },
     "inputWidgets": {},
     "nuid": "1260555a-061f-4d25-b3a8-bd27bf1660d7",
     "showTitle": false,
     "tableResultSettingsMap": {},
     "title": ""
    }
   },
   "outputs": [
    {
     "output_type": "stream",
     "name": "stdout",
     "output_type": "stream",
     "text": [
      "== Parsed Logical Plan ==\nRelation [year#20,series_type#21,series_name#22,match_no#23,match_type#24,match_id#25,match_venue#26,match_status#27,match_winning_team#28,match_tie_breaker#29,match_toss#30,umpires#31,match_referee#32,third_umpires#33,match_datetime#34,team1_name#35,team2_name#36,team1_score#37,team1_wickets#38,team2_score#39,team2_wickets#40,team1_captain#41,team1_players#42,team1_bench#43,... 19 more fields] csv\n\n== Analyzed Logical Plan ==\nyear: string, series_type: string, series_name: string, match_no: string, match_type: string, match_id: string, match_venue: string, match_status: string, match_winning_team: string, match_tie_breaker: string, match_toss: string, umpires: string, match_referee: string, third_umpires: string, match_datetime: string, team1_name: string, team2_name: string, team1_score: string, team1_wickets: string, team2_score: string, team2_wickets: string, team1_captain: string, team1_players: string, team1_bench: string, ... 19 more fields\nRelation [year#20,series_type#21,series_name#22,match_no#23,match_type#24,match_id#25,match_venue#26,match_status#27,match_winning_team#28,match_tie_breaker#29,match_toss#30,umpires#31,match_referee#32,third_umpires#33,match_datetime#34,team1_name#35,team2_name#36,team1_score#37,team1_wickets#38,team2_score#39,team2_wickets#40,team1_captain#41,team1_players#42,team1_bench#43,... 19 more fields] csv\n\n== Optimized Logical Plan ==\nRelation [year#20,series_type#21,series_name#22,match_no#23,match_type#24,match_id#25,match_venue#26,match_status#27,match_winning_team#28,match_tie_breaker#29,match_toss#30,umpires#31,match_referee#32,third_umpires#33,match_datetime#34,team1_name#35,team2_name#36,team1_score#37,team1_wickets#38,team2_score#39,team2_wickets#40,team1_captain#41,team1_players#42,team1_bench#43,... 19 more fields] csv\n\n== Physical Plan ==\nFileScan csv [year#20,series_type#21,series_name#22,match_no#23,match_type#24,match_id#25,match_venue#26,match_status#27,match_winning_team#28,match_tie_breaker#29,match_toss#30,umpires#31,match_referee#32,third_umpires#33,match_datetime#34,team1_name#35,team2_name#36,team1_score#37,team1_wickets#38,team2_score#39,team2_wickets#40,team1_captain#41,team1_players#42,team1_bench#43,... 19 more fields] Batched: false, DataFilters: [], Format: CSV, Location: InMemoryFileIndex(1 paths)[dbfs:/FileStore/tables/ipl_over_data.csv], PartitionFilters: [], PushedFilters: [], ReadSchema: struct<year:string,series_type:string,series_name:string,match_no:string,match_type:string,match_...\n\n"
     ]
    }
   ],
   "source": [
    "df.explain(mode='extended')"
   ]
  },
  {
   "cell_type": "code",
   "execution_count": 0,
   "metadata": {
    "application/vnd.databricks.v1+cell": {
     "cellMetadata": {
      "byteLimit": 2048000,
      "rowLimit": 10000
     },
     "inputWidgets": {},
     "nuid": "59f6684b-79ec-497d-be30-d66cc940b132",
     "showTitle": false,
     "tableResultSettingsMap": {},
     "title": ""
    }
   },
   "outputs": [
    {
     "output_type": "stream",
     "name": "stdout",
     "output_type": "stream",
     "text": [
      "Found 0 WholeStageCodegen subtrees.\n\n"
     ]
    }
   ],
   "source": [
    "df.explain(mode='codegen')"
   ]
  },
  {
   "cell_type": "code",
   "execution_count": 0,
   "metadata": {
    "application/vnd.databricks.v1+cell": {
     "cellMetadata": {
      "byteLimit": 2048000,
      "rowLimit": 10000
     },
     "inputWidgets": {},
     "nuid": "75b6c228-b036-4088-bb1b-aa93d7586550",
     "showTitle": false,
     "tableResultSettingsMap": {},
     "title": ""
    }
   },
   "outputs": [
    {
     "output_type": "stream",
     "name": "stdout",
     "output_type": "stream",
     "text": [
      "== Optimized Logical Plan ==\nRelation [year#20,series_type#21,series_name#22,match_no#23,match_type#24,match_id#25,match_venue#26,match_status#27,match_winning_team#28,match_tie_breaker#29,match_toss#30,umpires#31,match_referee#32,third_umpires#33,match_datetime#34,team1_name#35,team2_name#36,team1_score#37,team1_wickets#38,team2_score#39,team2_wickets#40,team1_captain#41,team1_players#42,team1_bench#43,... 19 more fields] csv, Statistics(sizeInBytes=19.9 MiB)\n\n== Physical Plan ==\nFileScan csv [year#20,series_type#21,series_name#22,match_no#23,match_type#24,match_id#25,match_venue#26,match_status#27,match_winning_team#28,match_tie_breaker#29,match_toss#30,umpires#31,match_referee#32,third_umpires#33,match_datetime#34,team1_name#35,team2_name#36,team1_score#37,team1_wickets#38,team2_score#39,team2_wickets#40,team1_captain#41,team1_players#42,team1_bench#43,... 19 more fields] Batched: false, DataFilters: [], Format: CSV, Location: InMemoryFileIndex(1 paths)[dbfs:/FileStore/tables/ipl_over_data.csv], PartitionFilters: [], PushedFilters: [], ReadSchema: struct<year:string,series_type:string,series_name:string,match_no:string,match_type:string,match_...\n\n\n"
     ]
    }
   ],
   "source": [
    "df.explain(mode='cost')"
   ]
  },
  {
   "cell_type": "code",
   "execution_count": 0,
   "metadata": {
    "application/vnd.databricks.v1+cell": {
     "cellMetadata": {
      "byteLimit": 2048000,
      "rowLimit": 10000
     },
     "inputWidgets": {},
     "nuid": "1b868855-c312-4030-89e5-2fd2c748d08a",
     "showTitle": false,
     "tableResultSettingsMap": {},
     "title": ""
    }
   },
   "outputs": [
    {
     "output_type": "stream",
     "name": "stdout",
     "output_type": "stream",
     "text": [
      "== Physical Plan ==\nScan csv  (1)\n\n\n(1) Scan csv \nOutput [43]: [year#20, series_type#21, series_name#22, match_no#23, match_type#24, match_id#25, match_venue#26, match_status#27, match_winning_team#28, match_tie_breaker#29, match_toss#30, umpires#31, match_referee#32, third_umpires#33, match_datetime#34, team1_name#35, team2_name#36, team1_score#37, team1_wickets#38, team2_score#39, team2_wickets#40, team1_captain#41, team1_players#42, team1_bench#43, team1_support_staff#44, team2_captain#45, team2_players#46, team2_bench#47, team2_support_staff#48, over_no#49, over_total_runs#50, over_summary#51, over_batsman1_name#52, over_batsman1_curr_scr#53, over_batsman1_played_balls#54, over_batsman2_name#55, over_batsman2_curr_scr#56, over_batsman2_played_balls#57, over_bowler_name#58, over_bowler_bowled_overs#59, over_bowler_bowled_maidens#60, over_bowler_bowled_runs#61, over_bowler_bowled_wickets#62]\nBatched: false\nLocation: InMemoryFileIndex [dbfs:/FileStore/tables/ipl_over_data.csv]\nReadSchema: struct<year:string,series_type:string,series_name:string,match_no:string,match_type:string,match_id:string,match_venue:string,match_status:string,match_winning_team:string,match_tie_breaker:string,match_toss:string,umpires:string,match_referee:string,third_umpires:string,match_datetime:string,team1_name:string,team2_name:string,team1_score:string,team1_wickets:string,team2_score:string,team2_wickets:string,team1_captain:string,team1_players:string,team1_bench:string,team1_support_staff:string,team2_captain:string,team2_players:string,team2_bench:string,team2_support_staff:string,over_no:string,over_total_runs:string,over_summary:string,over_batsman1_name:string,over_batsman1_curr_scr:string,over_batsman1_played_balls:string,over_batsman2_name:string,over_batsman2_curr_scr:string,over_batsman2_played_balls:string,over_bowler_name:string,over_bowler_bowled_overs:string,over_bowler_bowled_maidens:string,over_bowler_bowled_runs:string,over_bowler_bowled_wickets:string>\n\n\n"
     ]
    }
   ],
   "source": [
    "df.explain(mode='formatted')"
   ]
  },
  {
   "cell_type": "code",
   "execution_count": 0,
   "metadata": {
    "application/vnd.databricks.v1+cell": {
     "cellMetadata": {
      "byteLimit": 2048000,
      "rowLimit": 10000
     },
     "inputWidgets": {},
     "nuid": "bc31d519-1f0f-4862-9e9e-2e3f946e9d34",
     "showTitle": false,
     "tableResultSettingsMap": {},
     "title": ""
    }
   },
   "outputs": [
    {
     "output_type": "stream",
     "name": "stdout",
     "output_type": "stream",
     "text": [
      "+----+-----------+--------------------+---------+----------+--------+--------------------+------------+--------------------+-----------------+--------------------+--------------------+--------------------+--------------------+--------------------+----------+----------+-----------+-------------+-----------+-------------+-------------+-------------+--------------------+-------------------+-------------+-------------+--------------------+-------------------+-------+---------------+------------+------------------+----------------------+--------------------------+------------------+----------------------+--------------------------+----------------+------------------------+--------------------------+-----------------------+--------------------------+\n|year|series_type|         series_name| match_no|match_type|match_id|         match_venue|match_status|  match_winning_team|match_tie_breaker|          match_toss|             umpires|       match_referee|       third_umpires|      match_datetime|team1_name|team2_name|team1_score|team1_wickets|team2_score|team2_wickets|team1_captain|team1_players|         team1_bench|team1_support_staff|team2_captain|team2_players|         team2_bench|team2_support_staff|over_no|over_total_runs|over_summary|over_batsman1_name|over_batsman1_curr_scr|over_batsman1_played_balls|over_batsman2_name|over_batsman2_curr_scr|over_batsman2_played_balls|over_bowler_name|over_bowler_bowled_overs|over_bowler_bowled_maidens|over_bowler_bowled_runs|over_bowler_bowled_wickets|\n+----+-----------+--------------------+---------+----------+--------+--------------------+------------+--------------------+-----------------+--------------------+--------------------+--------------------+--------------------+--------------------+----------+----------+-----------+-------------+-----------+-------------+-------------+-------------+--------------------+-------------------+-------------+-------------+--------------------+-------------------+-------+---------------+------------+------------------+----------------------+--------------------------+------------------+----------------------+--------------------------+----------------+------------------------+--------------------------+-----------------------+--------------------------+\n|2021| T20 League|Indian Premier Le...|1st Match|   T20 IPL|   35612|{'stadium': 'MA C...|   completed|Royal Challengers...|             null|Royal Challengers...|KN Anantha Padman...|Vengalil Narayana...|Chettithody Shams...|2021-04-09 19:30:...|        MI|       RCB|        159|            9|        160|            8|         null|           []|Nathan Coulter-Ni...|               null|         null|           []|Adam Zampa, Devdu...|               null|      1|              5| 2 0 0 2 0 1|      Rohit Sharma|                     5|                         6|        Chris Lynn|                     0|                         0|  Mohammed Siraj|                       1|                         0|                      5|                         0|\n|2021| T20 League|Indian Premier Le...|1st Match|   T20 IPL|   35612|{'stadium': 'MA C...|   completed|Royal Challengers...|             null|Royal Challengers...|KN Anantha Padman...|Vengalil Narayana...|Chettithody Shams...|2021-04-09 19:30:...|        MI|       RCB|        159|            9|        160|            8|         null|           []|Nathan Coulter-Ni...|               null|         null|           []|Adam Zampa, Devdu...|               null|      2|              1| 1 0 0 0 0 0|        Chris Lynn|                     0|                         5|      Rohit Sharma|                     6|                         7|   Kyle Jamieson|                       1|                         0|                      1|                         0|\n|2021| T20 League|Indian Premier Le...|1st Match|   T20 IPL|   35612|{'stadium': 'MA C...|   completed|Royal Challengers...|             null|Royal Challengers...|KN Anantha Padman...|Vengalil Narayana...|Chettithody Shams...|2021-04-09 19:30:...|        MI|       RCB|        159|            9|        160|            8|         null|           []|Nathan Coulter-Ni...|               null|         null|           []|Adam Zampa, Devdu...|               null|      3|              6| 0 0 0 0 4 2|      Rohit Sharma|                    12|                        13|        Chris Lynn|                     0|                         5|  Mohammed Siraj|                       2|                         0|                     11|                         0|\n|2021| T20 League|Indian Premier Le...|1st Match|   T20 IPL|   35612|{'stadium': 'MA C...|   completed|Royal Challengers...|             null|Royal Challengers...|KN Anantha Padman...|Vengalil Narayana...|Chettithody Shams...|2021-04-09 19:30:...|        MI|       RCB|        159|            9|        160|            8|         null|           []|Nathan Coulter-Ni...|               null|         null|           []|Adam Zampa, Devdu...|               null|      4|             12| 0 4 1 6 1 W|        Chris Lynn|                     5|                         9|      Rohit Sharma|                    19|                        15|Yuzvendra Chahal|                       1|                         0|                     12|                         0|\n|2021| T20 League|Indian Premier Le...|1st Match|   T20 IPL|   35612|{'stadium': 'MA C...|   completed|Royal Challengers...|             null|Royal Challengers...|KN Anantha Padman...|Vengalil Narayana...|Chettithody Shams...|2021-04-09 19:30:...|        MI|       RCB|        159|            9|        160|            8|         null|           []|Nathan Coulter-Ni...|               null|         null|           []|Adam Zampa, Devdu...|               null|      5|              6| 4 0 1 1 0 0|  Suryakumar Yadav|                     5|                         5|        Chris Lynn|                     6|                        10|   Kyle Jamieson|                       2|                         0|                      7|                         0|\n+----+-----------+--------------------+---------+----------+--------+--------------------+------------+--------------------+-----------------+--------------------+--------------------+--------------------+--------------------+--------------------+----------+----------+-----------+-------------+-----------+-------------+-------------+-------------+--------------------+-------------------+-------------+-------------+--------------------+-------------------+-------+---------------+------------+------------------+----------------------+--------------------------+------------------+----------------------+--------------------------+----------------+------------------------+--------------------------+-----------------------+--------------------------+\nonly showing top 5 rows\n\n"
     ]
    }
   ],
   "source": [
    "df.show(5)"
   ]
  },
  {
   "cell_type": "markdown",
   "metadata": {
    "application/vnd.databricks.v1+cell": {
     "cellMetadata": {
      "byteLimit": 2048000,
      "rowLimit": 10000
     },
     "inputWidgets": {},
     "nuid": "95b3f180-c655-4bd0-83f0-d9ac787ee72d",
     "showTitle": false,
     "tableResultSettingsMap": {},
     "title": ""
    }
   },
   "source": [
    "### Pandas data loading"
   ]
  },
  {
   "cell_type": "code",
   "execution_count": 0,
   "metadata": {
    "application/vnd.databricks.v1+cell": {
     "cellMetadata": {
      "byteLimit": 2048000,
      "rowLimit": 10000
     },
     "inputWidgets": {},
     "nuid": "9f16a6ce-f76a-4307-9d1b-5386b4f56451",
     "showTitle": false,
     "tableResultSettingsMap": {},
     "title": ""
    }
   },
   "outputs": [
    {
     "output_type": "display_data",
     "data": {
      "application/vnd.databricks.v1+bamboolib_hint": "{\"pd.DataFrames\": [], \"version\": \"0.0.1\"}",
      "text/plain": []
     },
     "metadata": {},
     "output_type": "display_data"
    }
   ],
   "source": [
    "import pandas as pd"
   ]
  },
  {
   "cell_type": "code",
   "execution_count": 0,
   "metadata": {
    "application/vnd.databricks.v1+cell": {
     "cellMetadata": {
      "byteLimit": 2048000,
      "rowLimit": 10000
     },
     "inputWidgets": {},
     "nuid": "6747f96d-598d-43a6-adfc-b4cf3115569e",
     "showTitle": false,
     "tableResultSettingsMap": {},
     "title": ""
    }
   },
   "outputs": [],
   "source": [
    "pdf = df.toPandas()"
   ]
  },
  {
   "cell_type": "code",
   "execution_count": 0,
   "metadata": {
    "application/vnd.databricks.v1+cell": {
     "cellMetadata": {
      "byteLimit": 2048000,
      "rowLimit": 10000
     },
     "inputWidgets": {},
     "nuid": "7c9247a5-11a5-4bbc-bc4e-36eb5464f6d6",
     "showTitle": false,
     "tableResultSettingsMap": {},
     "title": ""
    }
   },
   "outputs": [
    {
     "output_type": "display_data",
     "data": {
      "text/html": [
       "<div>\n",
       "<style scoped>\n",
       "    .dataframe tbody tr th:only-of-type {\n",
       "        vertical-align: middle;\n",
       "    }\n",
       "\n",
       "    .dataframe tbody tr th {\n",
       "        vertical-align: top;\n",
       "    }\n",
       "\n",
       "    .dataframe thead th {\n",
       "        text-align: right;\n",
       "    }\n",
       "</style>\n",
       "<table border=\"1\" class=\"dataframe\">\n",
       "  <thead>\n",
       "    <tr style=\"text-align: right;\">\n",
       "      <th></th>\n",
       "      <th>year</th>\n",
       "      <th>series_type</th>\n",
       "      <th>series_name</th>\n",
       "      <th>match_no</th>\n",
       "      <th>match_type</th>\n",
       "      <th>match_id</th>\n",
       "      <th>match_venue</th>\n",
       "      <th>match_status</th>\n",
       "      <th>match_winning_team</th>\n",
       "      <th>match_tie_breaker</th>\n",
       "      <th>...</th>\n",
       "      <th>over_batsman1_curr_scr</th>\n",
       "      <th>over_batsman1_played_balls</th>\n",
       "      <th>over_batsman2_name</th>\n",
       "      <th>over_batsman2_curr_scr</th>\n",
       "      <th>over_batsman2_played_balls</th>\n",
       "      <th>over_bowler_name</th>\n",
       "      <th>over_bowler_bowled_overs</th>\n",
       "      <th>over_bowler_bowled_maidens</th>\n",
       "      <th>over_bowler_bowled_runs</th>\n",
       "      <th>over_bowler_bowled_wickets</th>\n",
       "    </tr>\n",
       "  </thead>\n",
       "  <tbody>\n",
       "    <tr>\n",
       "      <th>0</th>\n",
       "      <td>2021</td>\n",
       "      <td>T20 League</td>\n",
       "      <td>Indian Premier League 2021</td>\n",
       "      <td>1st Match</td>\n",
       "      <td>T20 IPL</td>\n",
       "      <td>35612</td>\n",
       "      <td>{'stadium': 'MA Chidambaram Stadium', 'city': ...</td>\n",
       "      <td>completed</td>\n",
       "      <td>Royal Challengers Bangalore</td>\n",
       "      <td>None</td>\n",
       "      <td>...</td>\n",
       "      <td>5</td>\n",
       "      <td>6</td>\n",
       "      <td>Chris Lynn</td>\n",
       "      <td>0</td>\n",
       "      <td>0</td>\n",
       "      <td>Mohammed Siraj</td>\n",
       "      <td>1</td>\n",
       "      <td>0</td>\n",
       "      <td>5</td>\n",
       "      <td>0</td>\n",
       "    </tr>\n",
       "    <tr>\n",
       "      <th>1</th>\n",
       "      <td>2021</td>\n",
       "      <td>T20 League</td>\n",
       "      <td>Indian Premier League 2021</td>\n",
       "      <td>1st Match</td>\n",
       "      <td>T20 IPL</td>\n",
       "      <td>35612</td>\n",
       "      <td>{'stadium': 'MA Chidambaram Stadium', 'city': ...</td>\n",
       "      <td>completed</td>\n",
       "      <td>Royal Challengers Bangalore</td>\n",
       "      <td>None</td>\n",
       "      <td>...</td>\n",
       "      <td>0</td>\n",
       "      <td>5</td>\n",
       "      <td>Rohit Sharma</td>\n",
       "      <td>6</td>\n",
       "      <td>7</td>\n",
       "      <td>Kyle Jamieson</td>\n",
       "      <td>1</td>\n",
       "      <td>0</td>\n",
       "      <td>1</td>\n",
       "      <td>0</td>\n",
       "    </tr>\n",
       "    <tr>\n",
       "      <th>2</th>\n",
       "      <td>2021</td>\n",
       "      <td>T20 League</td>\n",
       "      <td>Indian Premier League 2021</td>\n",
       "      <td>1st Match</td>\n",
       "      <td>T20 IPL</td>\n",
       "      <td>35612</td>\n",
       "      <td>{'stadium': 'MA Chidambaram Stadium', 'city': ...</td>\n",
       "      <td>completed</td>\n",
       "      <td>Royal Challengers Bangalore</td>\n",
       "      <td>None</td>\n",
       "      <td>...</td>\n",
       "      <td>12</td>\n",
       "      <td>13</td>\n",
       "      <td>Chris Lynn</td>\n",
       "      <td>0</td>\n",
       "      <td>5</td>\n",
       "      <td>Mohammed Siraj</td>\n",
       "      <td>2</td>\n",
       "      <td>0</td>\n",
       "      <td>11</td>\n",
       "      <td>0</td>\n",
       "    </tr>\n",
       "    <tr>\n",
       "      <th>3</th>\n",
       "      <td>2021</td>\n",
       "      <td>T20 League</td>\n",
       "      <td>Indian Premier League 2021</td>\n",
       "      <td>1st Match</td>\n",
       "      <td>T20 IPL</td>\n",
       "      <td>35612</td>\n",
       "      <td>{'stadium': 'MA Chidambaram Stadium', 'city': ...</td>\n",
       "      <td>completed</td>\n",
       "      <td>Royal Challengers Bangalore</td>\n",
       "      <td>None</td>\n",
       "      <td>...</td>\n",
       "      <td>5</td>\n",
       "      <td>9</td>\n",
       "      <td>Rohit Sharma</td>\n",
       "      <td>19</td>\n",
       "      <td>15</td>\n",
       "      <td>Yuzvendra Chahal</td>\n",
       "      <td>1</td>\n",
       "      <td>0</td>\n",
       "      <td>12</td>\n",
       "      <td>0</td>\n",
       "    </tr>\n",
       "    <tr>\n",
       "      <th>4</th>\n",
       "      <td>2021</td>\n",
       "      <td>T20 League</td>\n",
       "      <td>Indian Premier League 2021</td>\n",
       "      <td>1st Match</td>\n",
       "      <td>T20 IPL</td>\n",
       "      <td>35612</td>\n",
       "      <td>{'stadium': 'MA Chidambaram Stadium', 'city': ...</td>\n",
       "      <td>completed</td>\n",
       "      <td>Royal Challengers Bangalore</td>\n",
       "      <td>None</td>\n",
       "      <td>...</td>\n",
       "      <td>5</td>\n",
       "      <td>5</td>\n",
       "      <td>Chris Lynn</td>\n",
       "      <td>6</td>\n",
       "      <td>10</td>\n",
       "      <td>Kyle Jamieson</td>\n",
       "      <td>2</td>\n",
       "      <td>0</td>\n",
       "      <td>7</td>\n",
       "      <td>0</td>\n",
       "    </tr>\n",
       "  </tbody>\n",
       "</table>\n",
       "<p>5 rows × 43 columns</p>\n",
       "</div>"
      ]
     },
     "metadata": {
      "application/vnd.databricks.v1+output": {
       "addedWidgets": {},
       "arguments": {},
       "data": "<div>\n<style scoped>\n    .dataframe tbody tr th:only-of-type {\n        vertical-align: middle;\n    }\n\n    .dataframe tbody tr th {\n        vertical-align: top;\n    }\n\n    .dataframe thead th {\n        text-align: right;\n    }\n</style>\n<table border=\"1\" class=\"dataframe\">\n  <thead>\n    <tr style=\"text-align: right;\">\n      <th></th>\n      <th>year</th>\n      <th>series_type</th>\n      <th>series_name</th>\n      <th>match_no</th>\n      <th>match_type</th>\n      <th>match_id</th>\n      <th>match_venue</th>\n      <th>match_status</th>\n      <th>match_winning_team</th>\n      <th>match_tie_breaker</th>\n      <th>...</th>\n      <th>over_batsman1_curr_scr</th>\n      <th>over_batsman1_played_balls</th>\n      <th>over_batsman2_name</th>\n      <th>over_batsman2_curr_scr</th>\n      <th>over_batsman2_played_balls</th>\n      <th>over_bowler_name</th>\n      <th>over_bowler_bowled_overs</th>\n      <th>over_bowler_bowled_maidens</th>\n      <th>over_bowler_bowled_runs</th>\n      <th>over_bowler_bowled_wickets</th>\n    </tr>\n  </thead>\n  <tbody>\n    <tr>\n      <th>0</th>\n      <td>2021</td>\n      <td>T20 League</td>\n      <td>Indian Premier League 2021</td>\n      <td>1st Match</td>\n      <td>T20 IPL</td>\n      <td>35612</td>\n      <td>{'stadium': 'MA Chidambaram Stadium', 'city': ...</td>\n      <td>completed</td>\n      <td>Royal Challengers Bangalore</td>\n      <td>None</td>\n      <td>...</td>\n      <td>5</td>\n      <td>6</td>\n      <td>Chris Lynn</td>\n      <td>0</td>\n      <td>0</td>\n      <td>Mohammed Siraj</td>\n      <td>1</td>\n      <td>0</td>\n      <td>5</td>\n      <td>0</td>\n    </tr>\n    <tr>\n      <th>1</th>\n      <td>2021</td>\n      <td>T20 League</td>\n      <td>Indian Premier League 2021</td>\n      <td>1st Match</td>\n      <td>T20 IPL</td>\n      <td>35612</td>\n      <td>{'stadium': 'MA Chidambaram Stadium', 'city': ...</td>\n      <td>completed</td>\n      <td>Royal Challengers Bangalore</td>\n      <td>None</td>\n      <td>...</td>\n      <td>0</td>\n      <td>5</td>\n      <td>Rohit Sharma</td>\n      <td>6</td>\n      <td>7</td>\n      <td>Kyle Jamieson</td>\n      <td>1</td>\n      <td>0</td>\n      <td>1</td>\n      <td>0</td>\n    </tr>\n    <tr>\n      <th>2</th>\n      <td>2021</td>\n      <td>T20 League</td>\n      <td>Indian Premier League 2021</td>\n      <td>1st Match</td>\n      <td>T20 IPL</td>\n      <td>35612</td>\n      <td>{'stadium': 'MA Chidambaram Stadium', 'city': ...</td>\n      <td>completed</td>\n      <td>Royal Challengers Bangalore</td>\n      <td>None</td>\n      <td>...</td>\n      <td>12</td>\n      <td>13</td>\n      <td>Chris Lynn</td>\n      <td>0</td>\n      <td>5</td>\n      <td>Mohammed Siraj</td>\n      <td>2</td>\n      <td>0</td>\n      <td>11</td>\n      <td>0</td>\n    </tr>\n    <tr>\n      <th>3</th>\n      <td>2021</td>\n      <td>T20 League</td>\n      <td>Indian Premier League 2021</td>\n      <td>1st Match</td>\n      <td>T20 IPL</td>\n      <td>35612</td>\n      <td>{'stadium': 'MA Chidambaram Stadium', 'city': ...</td>\n      <td>completed</td>\n      <td>Royal Challengers Bangalore</td>\n      <td>None</td>\n      <td>...</td>\n      <td>5</td>\n      <td>9</td>\n      <td>Rohit Sharma</td>\n      <td>19</td>\n      <td>15</td>\n      <td>Yuzvendra Chahal</td>\n      <td>1</td>\n      <td>0</td>\n      <td>12</td>\n      <td>0</td>\n    </tr>\n    <tr>\n      <th>4</th>\n      <td>2021</td>\n      <td>T20 League</td>\n      <td>Indian Premier League 2021</td>\n      <td>1st Match</td>\n      <td>T20 IPL</td>\n      <td>35612</td>\n      <td>{'stadium': 'MA Chidambaram Stadium', 'city': ...</td>\n      <td>completed</td>\n      <td>Royal Challengers Bangalore</td>\n      <td>None</td>\n      <td>...</td>\n      <td>5</td>\n      <td>5</td>\n      <td>Chris Lynn</td>\n      <td>6</td>\n      <td>10</td>\n      <td>Kyle Jamieson</td>\n      <td>2</td>\n      <td>0</td>\n      <td>7</td>\n      <td>0</td>\n    </tr>\n  </tbody>\n</table>\n<p>5 rows × 43 columns</p>\n</div>",
       "datasetInfos": [],
       "metadata": {},
       "removedWidgets": [],
       "textData": null,
       "type": "htmlSandbox"
      }
     },
     "output_type": "display_data"
    }
   ],
   "source": [
    "pdf.head()"
   ]
  },
  {
   "cell_type": "code",
   "execution_count": 0,
   "metadata": {
    "application/vnd.databricks.v1+cell": {
     "cellMetadata": {},
     "inputWidgets": {},
     "nuid": "4f9b935f-36a2-41e1-9e46-01cb115ae334",
     "showTitle": false,
     "tableResultSettingsMap": {},
     "title": ""
    }
   },
   "outputs": [],
   "source": []
  }
 ],
 "metadata": {
  "application/vnd.databricks.v1+notebook": {
   "computePreferences": null,
   "dashboards": [],
   "environmentMetadata": {
    "base_environment": "",
    "environment_version": "1"
   },
   "inputWidgetPreferences": null,
   "language": "python",
   "notebookMetadata": {
    "mostRecentlyExecutedCommandWithImplicitDF": {
     "commandId": 1563874312312103,
     "dataframes": [
      "_sqldf"
     ]
    },
    "pythonIndentUnit": 4
   },
   "notebookName": "Task_2",
   "widgets": {}
  }
 },
 "nbformat": 4,
 "nbformat_minor": 0
}